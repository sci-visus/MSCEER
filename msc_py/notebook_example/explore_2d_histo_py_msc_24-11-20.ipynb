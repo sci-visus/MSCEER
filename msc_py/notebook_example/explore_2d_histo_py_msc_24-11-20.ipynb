{
 "cells": [
  {
   "cell_type": "code",
   "execution_count": null,
   "id": "fd6accbb",
   "metadata": {},
   "outputs": [],
   "source": [
    "import numpy as np\n",
    "import pandas as pd\n",
    "import matplotlib.pyplot as plt\n",
    "import matplotlib.colors as mcolors  # Correct import for colors module\n",
    "from scipy.ndimage import gaussian_filter, sobel, laplace\n",
    "import tifffile as tiff\n",
    "import os\n",
    "from PIL import Image\n",
    "from bokeh.plotting import figure, show\n",
    "from bokeh.io import output_notebook, push_notebook\n",
    "from bokeh.models import LinearColorMapper, ColorBar, HoverTool, CustomJS, ColumnDataSource, CheckboxGroup, Slider, FreehandDrawTool,  PolyDrawTool, PolyEditTool\n",
    "from bokeh.layouts import column\n",
    "from bokeh.transform import factor_cmap\n",
    "from bokeh.palettes import Spectral3  # Palette with three colors\n",
    "import ipywidgets as widgets\n",
    "import sys\n",
    "\n",
    "# Assuming the .pyd file is located at the given path\n",
    "sys.path.append(r\"C:\\Users\\jediati\\Desktop\\JEDIATI\\builds\\test_GradIntegrator\\bin\\Release\")\n",
    "import msc_py\n",
    "\n",
    "# Enable Bokeh output in Jupyter\n",
    "output_notebook()\n",
    "\n",
    "DEBUG = True"
   ]
  },
  {
   "cell_type": "markdown",
   "id": "e02f0302",
   "metadata": {},
   "source": [
    "## read in the 2 channels"
   ]
  },
  {
   "cell_type": "code",
   "execution_count": null,
   "id": "c1e05525",
   "metadata": {},
   "outputs": [],
   "source": [
    "I1 = r\"C:\\Users\\jediati\\Desktop\\JEDIATI\\data\\ARPA-H\\Area1_470.tif\"\n",
    "I2 = r\"C:\\Users\\jediati\\Desktop\\JEDIATI\\data\\ARPA-H\\Area1_528.tif\"\n",
    "DEBUG_OUTPUT_GRAY_FILE = r\"C:\\Users\\jediati\\Desktop\\JEDIATI\\data\\ARPA-H\\Area1_COMB.tif\""
   ]
  },
  {
   "cell_type": "code",
   "execution_count": null,
   "id": "6e18f2c7",
   "metadata": {},
   "outputs": [],
   "source": [
    "# I1 = r\"C:\\Users\\jediati\\Desktop\\JEDIATI\\data\\ARPA-H\\Area2_470.tif\"\n",
    "# I2 = r\"C:\\Users\\jediati\\Desktop\\JEDIATI\\data\\ARPA-H\\Area2_528.tif\"\n",
    "# DEBUG_OUTPUT_GRAY_FILE = r\"C:\\Users\\jediati\\Desktop\\JEDIATI\\data\\ARPA-H\\Area2_COMB.tif\""
   ]
  },
  {
   "cell_type": "code",
   "execution_count": null,
   "id": "4cc6bad2",
   "metadata": {},
   "outputs": [],
   "source": [
    "image = Image.open(I1)\n",
    "image2 = Image.open(I2)\n",
    "# Convert to grayscale\n",
    "image_gray1 = image#.convert('L')  # 'L' mode is for grayscale\n",
    "image_gray2 = image2#.convert('L')  # 'L' mode is for grayscale\n",
    "a1 = np.array(image_gray1, dtype=np.float32)\n",
    "a2 = np.array(image_gray2, dtype=np.float32)"
   ]
  },
  {
   "cell_type": "code",
   "execution_count": null,
   "id": "59045a80",
   "metadata": {},
   "outputs": [],
   "source": [
    "def gradmag(n):\n",
    "    sobel_x = sobel(n, axis=0)  # Gradient along x-axis\n",
    "    sobel_y = sobel(n, axis=1)  # Gradient along y-axis\n",
    "    # Compute gradient magnitude\n",
    "    return np.sqrt(sobel_x**2 + sobel_y**2)"
   ]
  },
  {
   "cell_type": "markdown",
   "id": "6051a586",
   "metadata": {},
   "source": [
    "### do channels to rgba"
   ]
  },
  {
   "cell_type": "code",
   "execution_count": null,
   "id": "6fea6ab2",
   "metadata": {},
   "outputs": [],
   "source": [
    "low_in_470, high_in_470 = [0.0, 64774.0]  # precomputed\n",
    "low_in_580, high_in_580 = [0.0, 65517.0]  # precomputed\n",
    "cI = 0.8\n",
    "nI = 0.8\n",
    "cG = 0.7\n",
    "nG = 0.8\n",
    "\n",
    "# ///////////////////////////////////////////////////////////////////////\n",
    "def gammaScale(image, gamma, low_in, high_in):\n",
    "    new_img = np.power(np.divide(np.subtract(image, low_in), high_in - low_in), gamma)\n",
    "    return new_img\n",
    "\n",
    "# ///////////////////////////////////////////////////////////////////////\n",
    "def imageScale(image, scale):\n",
    "    new_img = np.multiply(image, scale)\n",
    "    return new_img\n",
    "\n",
    "tile_red = imageScale(a1, nI)\n",
    "tile_red = gammaScale(a1, nG, low_in_470, high_in_470)\n",
    "\n",
    "tile_blue = imageScale(a2, cI)\n",
    "tile_blue = gammaScale(a2, cG, low_in_580, high_in_580)\n",
    "\n",
    "\n",
    "\n",
    "def ibMGColorReMap(ired, iblue):\n",
    "    B_Beta_E = 0.7000\n",
    "    B_Beta_H = 0.5000\n",
    "    c = 0.0821\n",
    "    G_Beta_E = 0.9000\n",
    "    G_Beta_H = 1.0\n",
    "    k = 1.0894\n",
    "    R_Beta_E = 0.0200\n",
    "    R_Beta_H = 0.8600\n",
    "\n",
    "    I_r = ((np.exp(-R_Beta_H * ired * 2.5) - c) * k) * ((np.exp(-R_Beta_E * iblue * 2.5) - c) * k)\n",
    "    I_g = ((np.exp(-G_Beta_H * ired * 2.5) - c) * k) * ((np.exp(-G_Beta_E * iblue * 2.5) - c) * k)\n",
    "    I_b = ((np.exp(-B_Beta_H * ired * 2.5) - c) * k) * ((np.exp(-B_Beta_E * iblue * 2.5) - c) * k)\n",
    "\n",
    "    rgb = np.squeeze(np.stack((I_r, I_g, I_b), axis=-1))\n",
    "    rgb *= 255\n",
    "    rgb = rgb.astype(\"uint8\")\n",
    "    return rgb\n",
    "\n",
    "rgb = ibMGColorReMap(tile_red, tile_blue)\n"
   ]
  },
  {
   "cell_type": "code",
   "execution_count": null,
   "id": "309e717b",
   "metadata": {},
   "outputs": [],
   "source": [
    "rgb.shape"
   ]
  },
  {
   "cell_type": "code",
   "execution_count": null,
   "id": "1b801b8c",
   "metadata": {
    "scrolled": true
   },
   "outputs": [],
   "source": [
    "out_image = Image.fromarray(rgb.astype(np.uint8), 'RGB')\n",
    "\n",
    "# Save the image as a PNG file\n",
    "out_image.save(r\"C:\\Users\\jediati\\Desktop\\rgb_cells.png\")"
   ]
  },
  {
   "cell_type": "code",
   "execution_count": null,
   "id": "a43a3684",
   "metadata": {},
   "outputs": [],
   "source": [
    "X, Y, _ = rgb.shape\n",
    "# Step 1: Convert RGB to RGBA by adding an alpha channel\n",
    "rgba_image = np.dstack((rgb, 255 * np.ones((X, Y), dtype=np.uint8)))\n",
    "rgba_flat = np.zeros((X, Y), dtype=np.uint32)\n",
    "view = rgba_flat.view(dtype=np.uint8).reshape((X, Y, 4))\n",
    "view[:, :, :] = rgba_image"
   ]
  },
  {
   "cell_type": "markdown",
   "id": "5584db71",
   "metadata": {},
   "source": [
    "## make a grayscale function on which to compute topology"
   ]
  },
  {
   "cell_type": "code",
   "execution_count": null,
   "id": "790bc412",
   "metadata": {},
   "outputs": [],
   "source": [
    "scalar_descriptions = []\n",
    "scalar_fields = []\n",
    "\n",
    "def add_field(name, field):\n",
    "    scalar_descriptions.append(name)\n",
    "    scalar_fields.append(field)"
   ]
  },
  {
   "cell_type": "code",
   "execution_count": null,
   "id": "ba1ede45",
   "metadata": {},
   "outputs": [],
   "source": [
    "# use average of sqrts\n",
    "print(np.max(a1), np.max(a2))\n",
    "ba1 = gaussian_filter(np.sqrt(a1), sigma=2).astype(np.float32)\n",
    "ba2 = gaussian_filter(np.sqrt(a2), sigma=2).astype(np.float32)\n",
    "blurred_array = (ba2+ba1)*0.5\n",
    "\n",
    "#add_field(\"average_of_sqrts, s2\", blurred_array)"
   ]
  },
  {
   "cell_type": "code",
   "execution_count": null,
   "id": "f43963ce",
   "metadata": {
    "scrolled": true
   },
   "outputs": [],
   "source": []
  },
  {
   "cell_type": "code",
   "execution_count": null,
   "id": "9f24d56f",
   "metadata": {},
   "outputs": [],
   "source": [
    "# if DEBUG:\n",
    "#     file_root = os.path.splitext(DEBUG_OUTPUT_GRAY_FILE)[0]\n",
    "#     outname = \"{}_{}x{}.raw\".format(file_root, blurred_array.shape[1], blurred_array.shape[0])\n",
    "#     print(\"writing raw:\", outname)\n",
    "#     blurred_array.tofile(outname)"
   ]
  },
  {
   "cell_type": "code",
   "execution_count": null,
   "id": "f11ca5a6",
   "metadata": {
    "scrolled": true
   },
   "outputs": [],
   "source": [
    "# use grayscale of rgb\n",
    "gray_im = np.dot(rgb[..., :3], [0.299, 0.587, 0.114]).astype(np.float32)\n",
    "gg1 = 255 - gaussian_filter(gray_im, sigma=2).astype(np.float32)\n",
    "\n",
    "#add_field(\"gray_from_rgb, s2\", gg1)\n",
    "\n",
    "# Visualize the array\n",
    "plt.imshow(gg1, cmap='gray')\n",
    "plt.colorbar()\n",
    "plt.show()"
   ]
  },
  {
   "cell_type": "code",
   "execution_count": null,
   "id": "d44bd97a",
   "metadata": {},
   "outputs": [],
   "source": [
    "# smooth and edge\n",
    "sm20e = gaussian_filter(gg1, sigma=20).astype(np.float32)\n",
    "# Compute gradient magnitude\n",
    "gradient_magnitude = gradmag(sm20e)\n",
    "sm20e = 255.0 - (255.0 * (gradient_magnitude - gradient_magnitude.min()) / (gradient_magnitude.ptp())).astype(np.float32)\n",
    "\n",
    "add_field(\"grad_mag_sobel, s2, s20\", sm20e)\n",
    "\n",
    "# Visualize the array\n",
    "plt.imshow(sm20e, cmap='gray')\n",
    "plt.colorbar()\n",
    "plt.show()"
   ]
  },
  {
   "cell_type": "code",
   "execution_count": null,
   "id": "4c5018f9",
   "metadata": {},
   "outputs": [],
   "source": [
    "# smooth and edge\n",
    "sm10e = gaussian_filter(gg1, sigma=10).astype(np.float32)\n",
    "# Compute gradient magnitude\n",
    "gradient_magnitude = gradmag(sm10e)\n",
    "sm10e = 255.0 - (255.0 * (gradient_magnitude - gradient_magnitude.min()) / (gradient_magnitude.ptp())).astype(np.float32)\n",
    "add_field(\"grad_mag_sobel, s2, s10\", sm10e)\n",
    "# Visualize the array\n",
    "plt.imshow(sm10e, cmap='gray')\n",
    "plt.colorbar()\n",
    "plt.show()"
   ]
  },
  {
   "cell_type": "code",
   "execution_count": null,
   "id": "59042917",
   "metadata": {},
   "outputs": [],
   "source": [
    "# smooth and edge\n",
    "sm5e = gaussian_filter(gg1, sigma=5).astype(np.float32)\n",
    "# Compute gradient magnitude\n",
    "gradient_magnitude = gradmag(sm5e)\n",
    "sm5e = 255.0 - (255.0 * (gradient_magnitude - gradient_magnitude.min()) / (gradient_magnitude.ptp())).astype(np.float32)\n",
    "add_field(\"grad_mag_sobel, s2, s5\", sm5e)\n",
    "# Visualize the array\n",
    "plt.imshow(sm5e, cmap='gray')\n",
    "plt.colorbar()\n",
    "plt.show()"
   ]
  },
  {
   "cell_type": "code",
   "execution_count": null,
   "id": "4aed56cb",
   "metadata": {},
   "outputs": [],
   "source": [
    "# smooth and edge\n",
    "smoothed_image = gaussian_filter(gg1, sigma=3).astype(np.float32)\n",
    "# Apply Laplacian filter\n",
    "laplacian_result = laplace(smoothed_image)\n",
    "\n",
    "# Rescale to 0-255\n",
    "laplacian_rescaled = 255.0 - (255 * (laplacian_result - laplacian_result.min()) / laplacian_result.ptp()).astype(np.float32)\n",
    "\n",
    "add_field(\"laplacian, s2, s5\", laplacian_rescaled)\n",
    "# Visualize the array\n",
    "plt.imshow(laplacian_rescaled, cmap='gray')\n",
    "plt.colorbar()\n",
    "plt.show()"
   ]
  },
  {
   "cell_type": "code",
   "execution_count": null,
   "id": "eddfb0c3",
   "metadata": {},
   "outputs": [],
   "source": [
    "# smooth and edge\n",
    "generic_image = 255 - gray_im\n",
    "\n",
    "add_field(\"Basic\", generic_image)\n",
    "# Visualize the array\n",
    "plt.imshow(generic_image, cmap='gray')\n",
    "plt.colorbar()\n",
    "plt.show()"
   ]
  },
  {
   "cell_type": "markdown",
   "id": "f52ac7e8",
   "metadata": {},
   "source": [
    "# Do the topology computation"
   ]
  },
  {
   "cell_type": "markdown",
   "id": "9498687f",
   "metadata": {},
   "source": [
    "## create a c++ side msc structure that will be filled in"
   ]
  },
  {
   "cell_type": "code",
   "execution_count": null,
   "id": "4b8cd6d8",
   "metadata": {},
   "outputs": [],
   "source": [
    "topo_ids = [msc_py.MakeMSCInstance() for name in scalar_descriptions]"
   ]
  },
  {
   "cell_type": "markdown",
   "id": "65fea65f",
   "metadata": {},
   "source": [
    "## does the heavy lifting - computes discrete gradient, and a MSC + hierarchy up to 20% simplification."
   ]
  },
  {
   "cell_type": "code",
   "execution_count": null,
   "id": "345fc4cb",
   "metadata": {},
   "outputs": [],
   "source": [
    "TEST_TIMING = False\n",
    "if TEST_TIMING:\n",
    "    print(\"with accurate msc boundaries\")\n",
    "    for i in range(5):\n",
    "        %time msc_py.ComputeMSC(topo_ids[0], scalar_fields[0], True, True)\n",
    "    print(\"with steepest descend msc boundaries\")\n",
    "    for i in range(5):\n",
    "        %time msc_py.ComputeMSC(topo_ids[0], scalar_fields[0], False, False)"
   ]
  },
  {
   "cell_type": "code",
   "execution_count": null,
   "id": "f55c4d4e",
   "metadata": {},
   "outputs": [],
   "source": [
    "%%time\n",
    "for j in range(len(topo_ids)):\n",
    "    %time msc_py.ComputeMSC(topo_ids[j], scalar_fields[j], False, False)\n",
    "print(\"total time:\")"
   ]
  },
  {
   "cell_type": "code",
   "execution_count": null,
   "id": "f0d8e0bd",
   "metadata": {},
   "outputs": [],
   "source": [
    "scalar_dict = {desc: (field, topo_id) for desc, field, topo_id in zip(scalar_descriptions, scalar_fields, topo_ids)}"
   ]
  },
  {
   "cell_type": "code",
   "execution_count": null,
   "id": "e895bdbf",
   "metadata": {
    "scrolled": true
   },
   "outputs": [],
   "source": [
    "# %%time \n",
    "# msc_py.ComputeMSC(id_sm20e, sm20e)"
   ]
  },
  {
   "cell_type": "markdown",
   "id": "07751d8e",
   "metadata": {},
   "source": [
    "## example query the \"mountains\" of the segmentation - also first run caches the base segmentation so future runs are faster"
   ]
  },
  {
   "cell_type": "code",
   "execution_count": null,
   "id": "674d7ae1",
   "metadata": {
    "scrolled": false
   },
   "outputs": [],
   "source": [
    "# %%time \n",
    "# # get the basins at persistece 50\n",
    "# msc_py.SetMSCPersistence(id, 0.00)\n",
    "# id_array = msc_py.GetAsc2Manifolds(id)"
   ]
  },
  {
   "cell_type": "code",
   "execution_count": null,
   "id": "f2e66432",
   "metadata": {},
   "outputs": [],
   "source": [
    "target_value = 0.0\n",
    "mask = gg1 < target_value\n",
    "mask"
   ]
  },
  {
   "cell_type": "markdown",
   "id": "fe882a91",
   "metadata": {},
   "source": [
    "## Interactive exploration of the image and segmentation"
   ]
  },
  {
   "cell_type": "code",
   "execution_count": null,
   "id": "215939a9",
   "metadata": {
    "scrolled": false
   },
   "outputs": [],
   "source": [
    "%%time\n",
    "# Create the dropdown for selecting items from a list\n",
    "\n",
    "\n",
    "\n",
    "# Assuming 'nodes' is your DataFrame with \"x\", \"y\", \"dim\", and \"value\" columns\n",
    "\n",
    "# Create a color map for 'dim' values: 0 -> Blue, 1 -> Green, 2 -> Red\n",
    "color_map = factor_cmap('dim_str', palette=['dodgerblue', 'lawngreen', 'orangered'], factors=['0', '1', '2'])\n",
    "\n",
    "\n",
    "# Recreate the color map (matplotlib colormap)\n",
    "num_colors = 63\n",
    "random_colors = np.random.rand(num_colors, 3)\n",
    "random_colors[num_colors-1]=[1,1,1]\n",
    "cmap = mcolors.ListedColormap(random_colors)\n",
    "\n",
    "# Generate colormap as a Bokeh-compatible palette (RGB hex values)\n",
    "palette = [cmap(i / num_colors) for i in range(num_colors)]\n",
    "palette = [mcolors.rgb2hex(c[:3]) for c in palette]  # Convert to hex colors\n",
    "\n",
    "figwidth = 900\n",
    "# Create a Bokeh figure\n",
    "p = figure(\n",
    "    x_range=(0, blurred_array.shape[1]), \n",
    "    y_range=(0, blurred_array.shape[0]), \n",
    "    width=figwidth,\n",
    "    height=int(figwidth*(blurred_array.shape[0]/blurred_array.shape[1])),\n",
    "    tools=\"pan,wheel_zoom,box_zoom,reset,save\",\n",
    "    title=\"Interactive Image with Bokeh\",\n",
    ")\n",
    "\n",
    "\n",
    "# Display the image\n",
    "\n",
    "ba2_flipped = np.flipud(rgba_flat)\n",
    "image_renderer = p.image_rgba(image=[ba2_flipped], x=0, y=0, dw=blurred_array.shape[1], dh=blurred_array.shape[0])\n",
    "# Map the id_array2 values to the colormap with LinearColorMapper\n",
    "color_mapper = LinearColorMapper(palette=palette, low=0, high=num_colors-1)\n",
    "\n",
    "\n",
    "# id_flipped = np.flipud(id_array2)\n",
    "# mask = ba2_flipped > 20\n",
    "# id_flipped_masked = np.where(mask, id_flipped, np.nan)\n",
    "\n",
    "# def change_id(tid):\n",
    "#     id_array2\n",
    "#     np.flipud(id_array2)\n",
    "def change_persistence(value, tid):\n",
    "    msc_py.SetMSCPersistence(tid, value)\n",
    "    id_array2 = msc_py.GetDsc2Manifolds(tid)\n",
    "    nodes = pd.DataFrame(msc_py.GetCriticalPoints(tid))\n",
    "    nodes['dim_str'] = nodes['dim'].astype(str)\n",
    "    nodes['y_f'] = blurred_array.shape[0] - nodes['y']\n",
    "    id_array2[mask]=num_colors-1\n",
    "    ids = np.flipud(id_array2) \n",
    "    return ids, nodes\n",
    "\n",
    "item_list = list(scalar_dict.keys())\n",
    "im, id = scalar_dict[item_list[0]]\n",
    "id_flipped_masked, nodes = change_persistence(1.0, id)\n",
    "\n",
    "source = ColumnDataSource(nodes)\n",
    "\n",
    "overlay_source = ColumnDataSource(data=dict(image =[np.flipud(im)], seg=[id_flipped_masked % num_colors]))\n",
    "# Add the colormapped overlay with alpha blending\n",
    "gray_mapper = LinearColorMapper(palette=\"Greys256\", low=0, high=255)\n",
    "\n",
    "gray_renderer = p.image(image='image', x=0, y=0, dw=id_flipped_masked.shape[1], dh=id_flipped_masked.shape[0],\n",
    "                           source=overlay_source, color_mapper=gray_mapper)\n",
    "overlay_renderer = p.image(image='seg', x=0, y=0, dw=id_flipped_masked.shape[1], dh=id_flipped_masked.shape[0],\n",
    "                           source=overlay_source, color_mapper=color_mapper, alpha=0.3)\n",
    "\n",
    "\n",
    "# Add circles to the plot with colors based on 'dim'\n",
    "points_renderer = p.circle(\n",
    "    x='x', \n",
    "    y='y_f', \n",
    "    size=3, \n",
    "    color=color_map, \n",
    "    source=source, \n",
    "    legend_field='dim_str',\n",
    "    fill_alpha=0.6\n",
    ")\n",
    "p.legend.click_policy = \"hide\"\n",
    "\n",
    "# Hover tool for the image (to show pixel values)\n",
    "hover_image = HoverTool(renderers=[gray_renderer])  # Target the image\n",
    "hover_image.tooltips = [(\"Image Value\", \"@image{0.00}\")]\n",
    "hover_image.point_policy = \"follow_mouse\"\n",
    "\n",
    "# Add a hover tool to display the \"value\" column\n",
    "# Hover tool for the points (to show point values)\n",
    "hover_points = HoverTool(renderers=[points_renderer])  # Target the points\n",
    "hover_points.tooltips = [(\"Point Value\", \"@value\")]\n",
    "hover_points.point_policy = \"follow_mouse\"\n",
    "\n",
    "\n",
    "\n",
    "\n",
    "#p.add_tools(hover_image)\n",
    "p.add_tools(hover_image, hover_points)\n",
    "# Show the plot\n",
    "# Create a CheckboxGroup for showing/hiding the images\n",
    "checkbox = CheckboxGroup(labels=[\"Show RGBA Image\", \"Show Scalar Field\",\"Show MSC Segmentation\"], active=[0, 1, 2])\n",
    "\n",
    "# Add a callback to toggle visibility of the image renderers\n",
    "checkbox_callback = CustomJS(args=dict(image_renderer=image_renderer, gray_renderer=gray_renderer, overlay_renderer=overlay_renderer), code=\"\"\"\n",
    "    // Toggle RGBA Image visibility\n",
    "    image_renderer.visible = cb_obj.active.includes(0);\n",
    "    // Toggle Overlay Image visibility\n",
    "    gray_renderer.visible = cb_obj.active.includes(1);\n",
    "    // Toggle Overlay Image visibility\n",
    "    overlay_renderer.visible = cb_obj.active.includes(2);\n",
    "\"\"\")\n",
    "\n",
    "checkbox.js_on_change('active', checkbox_callback)\n",
    "\n",
    "# a_r_source = ColumnDataSource({\"xs\":[[]], 'ys':[[]]})\n",
    "# annotation_red = p.multi_line(source = a_r_source, line_width=5, alpha=0.4, color='red')\n",
    "# annotation_green = p.multi_line([[]], [[]], line_width=5, alpha=0.4, color='green')\n",
    "\n",
    "# draw_tool1 = FreehandDrawTool(renderers=[annotation_red], num_objects=100)\n",
    "# draw_tool2 = FreehandDrawTool(renderers=[annotation_green], num_objects=100)\n",
    "# p.add_tools(draw_tool1, draw_tool2)\n",
    "# #p.toolbar.active_drag = draw_tool1\n",
    "\n",
    "\n",
    "# Layout the figure and checkbox\n",
    "layout = column(p, checkbox)\n",
    "\n",
    "# Show the plot\n",
    "handle = show(layout, notebook_handle=True)\n",
    "\n",
    "mymax = np.max(blurred_array) * 0.2\n",
    "# Create the slider with a custom width\n",
    "slider = widgets.FloatSlider(\n",
    "    value=1.0, \n",
    "    min=0, \n",
    "    max=mymax, \n",
    "    step=0.1, \n",
    "    description='Persistence',\n",
    "    layout=widgets.Layout(width='900px')  # Set the width to 900 pixels\n",
    ")\n",
    "\n",
    "dropdown = widgets.Dropdown(\n",
    "    options=item_list,\n",
    "    description='Select Item',\n",
    "    layout=widgets.Layout(width='300px')\n",
    ")\n",
    "# Define the function to be called when the slider value changes\n",
    "def on_widget_change(change):\n",
    "    # Get the current values of slider and dropdown\n",
    "    persistence_value = slider.value\n",
    "    selected_item = dropdown.value\n",
    "    #print(selected_item, scalar_dict[selected_item])\n",
    "    im, tid = scalar_dict[selected_item]\n",
    "    # Call change_persistence with the current values\n",
    "    id_flipped_masked, nodes = change_persistence(persistence_value, tid)\n",
    "    \n",
    "    # Update the overlay source data and circle data\n",
    "    overlay_source.data = dict(seg=[id_flipped_masked % (num_colors-1)], image=[np.flipud(im)])\n",
    "    source.data = dict(\n",
    "        x=nodes['x'],\n",
    "        y_f=nodes['y_f'],\n",
    "        dim_str=nodes['dim_str'],\n",
    "        value=nodes['value']\n",
    "    )\n",
    "    push_notebook(handle=handle)  # Update the plot in the notebook\n",
    "\n",
    "# Attach the function to both the slider and dropdown\n",
    "slider.observe(on_widget_change, names='value')\n",
    "dropdown.observe(on_widget_change, names='value')\n",
    "\n",
    "# Display the slider in the notebook\n",
    "widgets.VBox([slider, dropdown])"
   ]
  },
  {
   "cell_type": "code",
   "execution_count": null,
   "id": "a3702a14",
   "metadata": {},
   "outputs": [],
   "source": [
    "\n",
    "\n",
    "#widgets.VBox([slider, dropdown])"
   ]
  },
  {
   "cell_type": "code",
   "execution_count": null,
   "id": "acbb685c",
   "metadata": {},
   "outputs": [],
   "source": [
    "target_value = 0.0\n",
    "mask = gaussian_filter(gg1, sigma=5) < target_value\n",
    "on_widget_change(1)"
   ]
  },
  {
   "cell_type": "code",
   "execution_count": null,
   "id": "0429fd7d",
   "metadata": {},
   "outputs": [],
   "source": [
    "# use average of sqrts\n",
    "print(np.max(gray_im), np.max(gray_im))\n",
    "tt1 = np.where(gaussian_filter(gray_im, sigma=3) > 250, 0, 1)\n",
    "tt2 = np.where(gaussian_filter(gray_im, sigma=5) > 152, 0, 1)\n",
    "rs = []\n",
    "for tt in [tt1, tt2]:\n",
    "    r1 = np.pad(np.abs(tt[:-1,:]-tt[1:, :]), ((0,1), (0,0)), mode='constant', constant_values=0)\n",
    "    r2 = np.pad(np.abs(tt[:, :-1] - tt[:, 1:]), ((0,0), (0,1)), mode='constant', constant_values=0)\n",
    "    r = 255 - (np.maximum(r1,r2))*255\n",
    "    r = gaussian_filter(r, sigma=3).astype(np.float32)\n",
    "    r =  (255.0 * (r - r.min()) / (r.ptp())).astype(np.float32)\n",
    "    rs.append(r)\n",
    "r = np.minimum(*rs)\n",
    "# Visualize the array\n",
    "plt.imshow(r, cmap='gray')\n",
    "plt.colorbar()\n",
    "plt.show()"
   ]
  },
  {
   "cell_type": "code",
   "execution_count": null,
   "id": "fc4d9e5d",
   "metadata": {
    "scrolled": true
   },
   "outputs": [],
   "source": [
    "# demo of updating the \"Basic\" image with some tests\n",
    "\n",
    "# # do math for a new image\n",
    "# test = 255-gray_im\n",
    "# testa = gaussian_filter(test, sigma=1).astype(np.float32)\n",
    "# testb = gaussian_filter(test, sigma=40).astype(np.float32)\n",
    "# test = testa - testb\n",
    "# sobel_x = sobel(test, axis=0)  # Gradient along x-axis\n",
    "# sobel_y = sobel(test, axis=1)  # Gradient along y-axis\n",
    "# test = np.sqrt(sobel_x**2 + sobel_y**2)\n",
    "\n",
    "gradient_magnitude = gradmag(gaussian_filter(gg1, sigma=8).astype(np.float32))\n",
    "test =  255.0 - (255.0 * (gradient_magnitude - gradient_magnitude.min()) / (gradient_magnitude.ptp())).astype(np.float32)\n",
    "test = 0.65* test + 0.35* r\n",
    "# replace the image and computed topology in the data source, push notebook to update plots\n",
    "_, id = scalar_dict[\"Basic\"]\n",
    "msc_py.ComputeMSC(id, test, False, True)\n",
    "scalar_dict[\"Basic\"] = (test, id)\n",
    "on_widget_change(1)"
   ]
  },
  {
   "cell_type": "code",
   "execution_count": null,
   "id": "92693508",
   "metadata": {},
   "outputs": [],
   "source": [
    "\n",
    "#out = scalar_dict['laplacian, s2, s5'][0].astype(np.float32)\n",
    "out = scalar_dict[dropdown.value][0].astype(np.float32)\n",
    "out = 255 - out\n",
    "outx, outy = out.shape\n",
    "topo_file_name = r\"C:\\\\Users\\\\jediati\\\\Desktop\\\\JEDIATI\\\\builds\\\\test_GraphCuts\\\\multigraphcuts2d\\\\Release\\\\demo_data\\\\\"+\"test_\"+str(outx)+\"x\"+str(outy)+\".raw\"\n",
    "im_file_name = r\"C:\\\\Users\\\\jediati\\\\Desktop\\\\JEDIATI\\\\builds\\\\test_GraphCuts\\\\multigraphcuts2d\\\\Release\\\\demo_data\\\\bg.raw\"\n",
    "out.tofile(topo_file_name)\n",
    "gray_im.tofile(im_file_name)"
   ]
  },
  {
   "cell_type": "code",
   "execution_count": null,
   "id": "16901b6b",
   "metadata": {},
   "outputs": [],
   "source": [
    "make_graph_exe = r\"C:\\Users\\jediati\\Desktop\\JEDIATI\\builds\\new_GradIntegrator\\extract2dregiongraph\\Release\\extract2dregiongraph.exe\""
   ]
  },
  {
   "cell_type": "code",
   "execution_count": null,
   "id": "7ce20db4",
   "metadata": {},
   "outputs": [],
   "source": [
    "labeler_tool_exe = r\"C:\\Users\\jediati\\Desktop\\JEDIATI\\builds\\LabelerFLTK\\region_labeler\\Release\\RegionLabeler.exe\""
   ]
  },
  {
   "cell_type": "code",
   "execution_count": null,
   "id": "4325803c",
   "metadata": {},
   "outputs": [],
   "source": [
    "import subprocess\n",
    "\n",
    "args = [make_graph_exe, topo_file_name, str(outy), str(outx), str(slider.value), \"1\"]\n",
    "print(\" \".join(args))\n",
    "\n",
    "subprocess.run(args)\n",
    "\n"
   ]
  },
  {
   "cell_type": "code",
   "execution_count": null,
   "id": "e91464cf",
   "metadata": {},
   "outputs": [],
   "source": [
    "args = [labeler_tool_exe,  str(outy), str(outx), topo_file_name, im_file_name]\n",
    "process = subprocess.Popen(args)\n",
    "\n",
    "# Print process information\n",
    "print(f\"Process launched with PID: {process.pid}\")"
   ]
  },
  {
   "cell_type": "code",
   "execution_count": null,
   "id": "2d6685e7",
   "metadata": {},
   "outputs": [],
   "source": []
  }
 ],
 "metadata": {
  "kernelspec": {
   "display_name": "Python [conda env:vis] *",
   "language": "python",
   "name": "conda-env-vis-py"
  },
  "language_info": {
   "codemirror_mode": {
    "name": "ipython",
    "version": 3
   },
   "file_extension": ".py",
   "mimetype": "text/x-python",
   "name": "python",
   "nbconvert_exporter": "python",
   "pygments_lexer": "ipython3",
   "version": "3.10.8"
  }
 },
 "nbformat": 4,
 "nbformat_minor": 5
}
